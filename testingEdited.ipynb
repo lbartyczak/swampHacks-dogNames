{
 "cells": [
  {
   "cell_type": "code",
   "execution_count": 18,
   "metadata": {},
   "outputs": [],
   "source": [
    "import pandas as pd\n",
    "import csv\n",
    "import matplotlib.pyplot as plt\n",
    "import ipywidgets as widgets\n",
    "from IPython.display import display, clear_output"
   ]
  },
  {
   "cell_type": "code",
   "execution_count": null,
   "metadata": {},
   "outputs": [],
   "source": [
    "# Data Credit: City of Anchorage (https://www.kaggle.com/yamqwe/dog-names-over-timee)\n",
    "# Data Visualization with Python (https://www.geeksforgeeks.org/data-visualization-with-python/)\n",
    "# Parsing Text with Python (https://www.vipinajayakumar.com/parsing-text-with-python/)\n",
    "# SwampHacks VIII"
   ]
  },
  {
   "cell_type": "code",
   "execution_count": 48,
   "metadata": {},
   "outputs": [
    {
     "data": {
      "text/plain": [
       "(Index(['DogName', 'Count', 'Rank', 'Date', 'Set'], dtype='object'),\n",
       "        DogName  Rank\n",
       " 0        BELLA     1\n",
       " 1         LUCY     2\n",
       " 2        SADIE     3\n",
       " 3          MAX     4\n",
       " 4        BUDDY     5\n",
       " ...        ...   ...\n",
       " 16227   ZOTTER  1259\n",
       " 16228  ZSA ZSA  1259\n",
       " 16229    ZUILA  1259\n",
       " 16230     ZUNI  1259\n",
       " 16231     ZURI  1259\n",
       " \n",
       " [16232 rows x 2 columns])"
      ]
     },
     "execution_count": 48,
     "metadata": {},
     "output_type": "execute_result"
    }
   ],
   "source": [
    "df = pd.read_csv('dog-names-over-time-1.csv', header=0, sep=' *, *', skipinitialspace=True, engine='python')\n",
    "num = df.count\n"
   ]
  },
  {
   "cell_type": "code",
   "execution_count": 90,
   "metadata": {},
   "outputs": [
    {
     "data": {
      "application/vnd.jupyter.widget-view+json": {
       "model_id": "2585d5bc4d3e4b83b4fb79ccb92743ce",
       "version_major": 2,
       "version_minor": 0
      },
      "text/plain": [
       "VBox(children=(HBox(children=(Image(value=b'\\xff\\xd8\\xff\\xe0\\x00\\x10JFIF\\x00\\x01\\x01\\x01\\x00`\\x00`\\x00\\x00\\xff…"
      ]
     },
     "metadata": {},
     "output_type": "display_data"
    }
   ],
   "source": [
    "firstLetter = widgets.Text(\n",
    "    placeholder='Your favorite letter here'\n",
    ")\n",
    "numberOfNames = widgets.IntSlider(\n",
    "    value = 5,\n",
    "    min=0,\n",
    "    max = 10,\n",
    "    step = 1,\n",
    "    style={'description_width':'initial'},\n",
    ")\n",
    "\n",
    "file = open(\"brownDog.jpg\", \"rb\")\n",
    "img1 = file.read()\n",
    "\n",
    "file = open(\"whiteDog.jpg\", \"rb\")\n",
    "img2 = file.read()\n",
    "\n",
    "Image1 = widgets.Image(\n",
    "    value = img1,\n",
    "    format = 'jpg',\n",
    "    width = 100,\n",
    "    height =100,\n",
    ")\n",
    "\n",
    "Image2 = widgets.Image(\n",
    "    value = img2,\n",
    "    format ='jpg',\n",
    "    width=100,\n",
    "    height=100,\n",
    "\n",
    ")\n",
    "\n",
    "button_search = widgets.Button(\n",
    "                description='Search',\n",
    "                tooltip='Search',\n",
    "                style={'description_width': 'initial'}\n",
    "            )\n",
    "\n",
    "output = widgets.Output()\n",
    "\n",
    "def on_button_clicked(event):\n",
    "    with output:\n",
    "        clear_output()\n",
    "        print(df['DogName'].loc[df['DogName'].str.startswith(firstLetter.value.upper())].head(numberOfNames.value))\n",
    "\n",
    "button_search.on_click(on_button_clicked)\n",
    "\n",
    "vbox_result = widgets.VBox([button_search, output])\n",
    "\n",
    "text_0 = widgets.HTML(\"<h1>Dog Names<h1>\")\n",
    "text_1 = widgets.HTML(\"<p>Want to find the top names starting with your favorite letter? Enter the letter below!<p>\")\n",
    "text_2 = widgets.HTML(\"<p>How many names do you want to see?<p>\")\n",
    "title = widgets.HBox([Image1,text_0,Image2])\n",
    "page = widgets.VBox([title, text_1, firstLetter, text_2, numberOfNames, vbox_result])\n",
    "display(page)"
   ]
  },
  {
   "cell_type": "markdown",
   "metadata": {},
   "source": [
    "## Top 10 Dog Names"
   ]
  },
  {
   "cell_type": "code",
   "execution_count": 71,
   "metadata": {},
   "outputs": [
    {
     "data": {
      "text/html": [
       "<div>\n",
       "<style scoped>\n",
       "    .dataframe tbody tr th:only-of-type {\n",
       "        vertical-align: middle;\n",
       "    }\n",
       "\n",
       "    .dataframe tbody tr th {\n",
       "        vertical-align: top;\n",
       "    }\n",
       "\n",
       "    .dataframe thead th {\n",
       "        text-align: right;\n",
       "    }\n",
       "</style>\n",
       "<table border=\"1\" class=\"dataframe\">\n",
       "  <thead>\n",
       "    <tr style=\"text-align: right;\">\n",
       "      <th></th>\n",
       "      <th>DogName</th>\n",
       "      <th>Count</th>\n",
       "      <th>Rank</th>\n",
       "    </tr>\n",
       "  </thead>\n",
       "  <tbody>\n",
       "    <tr>\n",
       "      <th>0</th>\n",
       "      <td>BELLA</td>\n",
       "      <td>115</td>\n",
       "      <td>1</td>\n",
       "    </tr>\n",
       "    <tr>\n",
       "      <th>1</th>\n",
       "      <td>LUCY</td>\n",
       "      <td>80</td>\n",
       "      <td>2</td>\n",
       "    </tr>\n",
       "    <tr>\n",
       "      <th>2</th>\n",
       "      <td>SADIE</td>\n",
       "      <td>78</td>\n",
       "      <td>3</td>\n",
       "    </tr>\n",
       "    <tr>\n",
       "      <th>3</th>\n",
       "      <td>MAX</td>\n",
       "      <td>76</td>\n",
       "      <td>4</td>\n",
       "    </tr>\n",
       "    <tr>\n",
       "      <th>4</th>\n",
       "      <td>BUDDY</td>\n",
       "      <td>74</td>\n",
       "      <td>5</td>\n",
       "    </tr>\n",
       "    <tr>\n",
       "      <th>5</th>\n",
       "      <td>BAILEY</td>\n",
       "      <td>64</td>\n",
       "      <td>6</td>\n",
       "    </tr>\n",
       "    <tr>\n",
       "      <th>6</th>\n",
       "      <td>CHARLIE</td>\n",
       "      <td>63</td>\n",
       "      <td>7</td>\n",
       "    </tr>\n",
       "    <tr>\n",
       "      <th>7</th>\n",
       "      <td>DAISY</td>\n",
       "      <td>61</td>\n",
       "      <td>8</td>\n",
       "    </tr>\n",
       "    <tr>\n",
       "      <th>8</th>\n",
       "      <td>JACK</td>\n",
       "      <td>59</td>\n",
       "      <td>9</td>\n",
       "    </tr>\n",
       "    <tr>\n",
       "      <th>9</th>\n",
       "      <td>GINGER</td>\n",
       "      <td>58</td>\n",
       "      <td>10</td>\n",
       "    </tr>\n",
       "  </tbody>\n",
       "</table>\n",
       "</div>"
      ],
      "text/plain": [
       "   DogName  Count  Rank\n",
       "0    BELLA    115     1\n",
       "1     LUCY     80     2\n",
       "2    SADIE     78     3\n",
       "3      MAX     76     4\n",
       "4    BUDDY     74     5\n",
       "5   BAILEY     64     6\n",
       "6  CHARLIE     63     7\n",
       "7    DAISY     61     8\n",
       "8     JACK     59     9\n",
       "9   GINGER     58    10"
      ]
     },
     "execution_count": 71,
     "metadata": {},
     "output_type": "execute_result"
    }
   ],
   "source": [
    "df[['DogName','Count','Rank']].head(10) # Top Ten Names"
   ]
  },
  {
   "cell_type": "code",
   "execution_count": 73,
   "metadata": {},
   "outputs": [
    {
     "data": {
      "image/png": "[encoded data removed]",
      "text/plain": [
       "<Figure size 432x288 with 1 Axes>"
      ]
     },
     "metadata": {},
     "output_type": "display_data"
    }
   ],
   "source": [
    "dog_names = []\n",
    "num_dog_names = []\n",
    "\n",
    "with open('dog-names-over-time-1.csv') as csvfile:\n",
    "    plots = csv.reader(csvfile, delimiter = ',')\n",
    "    \n",
    "    for row in plots:  # Reading only Dog names and amount of registered names\n",
    "        dog_names.append(row[0])\n",
    "        num_dog_names.append(row[1])\n",
    "\n",
    "# The Top Ten names\n",
    "plt.pie(num_dog_names [1:11], labels = dog_names [1:11], autopct = '%.2f%%')\n",
    "plt.title('Top Dog! (names)', fontsize = 15)\n",
    "\n",
    "plt.show() # Displays names and percentage of total names"
   ]
  },
  {
   "cell_type": "markdown",
   "metadata": {},
   "source": [
    "## Bottom 10 Dog Names"
   ]
  },
  {
   "cell_type": "code",
   "execution_count": 74,
   "metadata": {},
   "outputs": [
    {
     "data": {
      "text/html": [
       "<div>\n",
       "<style scoped>\n",
       "    .dataframe tbody tr th:only-of-type {\n",
       "        vertical-align: middle;\n",
       "    }\n",
       "\n",
       "    .dataframe tbody tr th {\n",
       "        vertical-align: top;\n",
       "    }\n",
       "\n",
       "    .dataframe thead th {\n",
       "        text-align: right;\n",
       "    }\n",
       "</style>\n",
       "<table border=\"1\" class=\"dataframe\">\n",
       "  <thead>\n",
       "    <tr style=\"text-align: right;\">\n",
       "      <th></th>\n",
       "      <th>DogName</th>\n",
       "      <th>Count</th>\n",
       "      <th>Rank</th>\n",
       "    </tr>\n",
       "  </thead>\n",
       "  <tbody>\n",
       "    <tr>\n",
       "      <th>16222</th>\n",
       "      <td>ZOEY MARIE</td>\n",
       "      <td>1</td>\n",
       "      <td>1259</td>\n",
       "    </tr>\n",
       "    <tr>\n",
       "      <th>16223</th>\n",
       "      <td>ZONA</td>\n",
       "      <td>1</td>\n",
       "      <td>1259</td>\n",
       "    </tr>\n",
       "    <tr>\n",
       "      <th>16224</th>\n",
       "      <td>ZOOIE</td>\n",
       "      <td>1</td>\n",
       "      <td>1259</td>\n",
       "    </tr>\n",
       "    <tr>\n",
       "      <th>16225</th>\n",
       "      <td>ZORBA</td>\n",
       "      <td>1</td>\n",
       "      <td>1259</td>\n",
       "    </tr>\n",
       "    <tr>\n",
       "      <th>16226</th>\n",
       "      <td>ZORRA</td>\n",
       "      <td>1</td>\n",
       "      <td>1259</td>\n",
       "    </tr>\n",
       "    <tr>\n",
       "      <th>16227</th>\n",
       "      <td>ZOTTER</td>\n",
       "      <td>1</td>\n",
       "      <td>1259</td>\n",
       "    </tr>\n",
       "    <tr>\n",
       "      <th>16228</th>\n",
       "      <td>ZSA ZSA</td>\n",
       "      <td>1</td>\n",
       "      <td>1259</td>\n",
       "    </tr>\n",
       "    <tr>\n",
       "      <th>16229</th>\n",
       "      <td>ZUILA</td>\n",
       "      <td>1</td>\n",
       "      <td>1259</td>\n",
       "    </tr>\n",
       "    <tr>\n",
       "      <th>16230</th>\n",
       "      <td>ZUNI</td>\n",
       "      <td>1</td>\n",
       "      <td>1259</td>\n",
       "    </tr>\n",
       "    <tr>\n",
       "      <th>16231</th>\n",
       "      <td>ZURI</td>\n",
       "      <td>1</td>\n",
       "      <td>1259</td>\n",
       "    </tr>\n",
       "  </tbody>\n",
       "</table>\n",
       "</div>"
      ],
      "text/plain": [
       "          DogName  Count  Rank\n",
       "16222  ZOEY MARIE      1  1259\n",
       "16223        ZONA      1  1259\n",
       "16224       ZOOIE      1  1259\n",
       "16225       ZORBA      1  1259\n",
       "16226       ZORRA      1  1259\n",
       "16227      ZOTTER      1  1259\n",
       "16228     ZSA ZSA      1  1259\n",
       "16229       ZUILA      1  1259\n",
       "16230        ZUNI      1  1259\n",
       "16231        ZURI      1  1259"
      ]
     },
     "execution_count": 74,
     "metadata": {},
     "output_type": "execute_result"
    }
   ],
   "source": [
    "df[['DogName','Count','Rank']].tail(10) # Bottom 10 names"
   ]
  },
  {
   "cell_type": "code",
   "execution_count": null,
   "metadata": {},
   "outputs": [],
   "source": []
  }
 ],
 "metadata": {
  "kernelspec": {
   "display_name": "Python 3 (ipykernel)",
   "language": "python",
   "name": "python3"
  },
  "language_info": {
   "codemirror_mode": {
    "name": "ipython",
    "version": 3
   },
   "file_extension": ".py",
   "mimetype": "text/x-python",
   "name": "python",
   "nbconvert_exporter": "python",
   "pygments_lexer": "ipython3",
   "version": "3.9.7"
  }
 },
 "nbformat": 4,
 "nbformat_minor": 4
}
