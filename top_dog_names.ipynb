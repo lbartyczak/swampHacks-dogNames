{
 "cells": [
  {
   "cell_type": "code",
   "execution_count": 1,
   "metadata": {},
   "outputs": [],
   "source": [
    "import pandas as pd\n",
    "import csv\n",
    "import matplotlib.pyplot as plt"
   ]
  },
  {
   "cell_type": "code",
   "execution_count": 9,
   "metadata": {},
   "outputs": [],
   "source": [
    "# Data Credit: City of Anchorage (https://www.kaggle.com/yamqwe/dog-names-over-timee)\n",
    "# Data Visualization with Python (https://www.geeksforgeeks.org/data-visualization-with-python/)\n",
    "# Parsing Text with Python (https://www.vipinajayakumar.com/parsing-text-with-python/)\n",
    "# SwampHacks VIII"
   ]
  },
  {
   "cell_type": "code",
   "execution_count": 10,
   "metadata": {},
   "outputs": [
    {
     "data": {
      "image/png": "[encoded data removed]",
      "text/plain": [
       "<Figure size 432x288 with 1 Axes>"
      ]
     },
     "metadata": {},
     "output_type": "display_data"
    }
   ],
   "source": [
    "dog_names = []\n",
    "num_dog_names = []\n",
    "\n",
    "with open('dog-names-over-time-1.csv') as csvfile:\n",
    "    plots = csv.reader(csvfile, delimiter = ',')\n",
    "    \n",
    "    for row in plots:  # Reading only Dog names and amount of registered names\n",
    "        dog_names.append(row[0])\n",
    "        num_dog_names.append(row[1])\n",
    "\n",
    "# The Top Ten names\n",
    "plt.pie(num_dog_names [1:11], labels = dog_names [1:11], autopct = '%.2f%%')\n",
    "plt.title('Top Dog! (names)', fontsize = 15)\n",
    "\n",
    "plt.show() # Displays names and percentage of total names"
   ]
  },
  {
   "cell_type": "code",
   "execution_count": 3,
   "metadata": {},
   "outputs": [],
   "source": [
    "df = pd.read_csv('dog-names-over-time-1.csv', header=0, sep=' *, *', skipinitialspace=True, engine='python')"
   ]
  },
  {
   "cell_type": "code",
   "execution_count": 5,
   "metadata": {},
   "outputs": [
    {
     "name": "stdout",
     "output_type": "stream",
     "text": [
      "<class 'pandas.core.frame.DataFrame'>\n",
      "RangeIndex: 16232 entries, 0 to 16231\n",
      "Data columns (total 5 columns):\n",
      " #   Column   Non-Null Count  Dtype \n",
      "---  ------   --------------  ----- \n",
      " 0   DogName  16232 non-null  object\n",
      " 1   Count    16232 non-null  int64 \n",
      " 2   Rank     16232 non-null  int64 \n",
      " 3   Date     16232 non-null  object\n",
      " 4   Set      16232 non-null  int64 \n",
      "dtypes: int64(3), object(2)\n",
      "memory usage: 634.2+ KB\n"
     ]
    }
   ],
   "source": [
    "df.info()"
   ]
  },
  {
   "cell_type": "markdown",
   "metadata": {},
   "source": [
    "## Top 10 Dog Names"
   ]
  },
  {
   "cell_type": "code",
   "execution_count": 8,
   "metadata": {},
   "outputs": [
    {
     "data": {
      "text/html": [
       "<div>\n",
       "<style scoped>\n",
       "    .dataframe tbody tr th:only-of-type {\n",
       "        vertical-align: middle;\n",
       "    }\n",
       "\n",
       "    .dataframe tbody tr th {\n",
       "        vertical-align: top;\n",
       "    }\n",
       "\n",
       "    .dataframe thead th {\n",
       "        text-align: right;\n",
       "    }\n",
       "</style>\n",
       "<table border=\"1\" class=\"dataframe\">\n",
       "  <thead>\n",
       "    <tr style=\"text-align: right;\">\n",
       "      <th></th>\n",
       "      <th>DogName</th>\n",
       "      <th>Count</th>\n",
       "      <th>Rank</th>\n",
       "      <th>Date</th>\n",
       "      <th>Set</th>\n",
       "    </tr>\n",
       "  </thead>\n",
       "  <tbody>\n",
       "    <tr>\n",
       "      <th>0</th>\n",
       "      <td>BELLA</td>\n",
       "      <td>115</td>\n",
       "      <td>1</td>\n",
       "      <td>07/13/2017 12:00:00 AM</td>\n",
       "      <td>1</td>\n",
       "    </tr>\n",
       "    <tr>\n",
       "      <th>1</th>\n",
       "      <td>LUCY</td>\n",
       "      <td>80</td>\n",
       "      <td>2</td>\n",
       "      <td>07/13/2017 12:00:00 AM</td>\n",
       "      <td>1</td>\n",
       "    </tr>\n",
       "    <tr>\n",
       "      <th>2</th>\n",
       "      <td>SADIE</td>\n",
       "      <td>78</td>\n",
       "      <td>3</td>\n",
       "      <td>07/13/2017 12:00:00 AM</td>\n",
       "      <td>1</td>\n",
       "    </tr>\n",
       "    <tr>\n",
       "      <th>3</th>\n",
       "      <td>MAX</td>\n",
       "      <td>76</td>\n",
       "      <td>4</td>\n",
       "      <td>07/13/2017 12:00:00 AM</td>\n",
       "      <td>1</td>\n",
       "    </tr>\n",
       "    <tr>\n",
       "      <th>4</th>\n",
       "      <td>BUDDY</td>\n",
       "      <td>74</td>\n",
       "      <td>5</td>\n",
       "      <td>07/13/2017 12:00:00 AM</td>\n",
       "      <td>1</td>\n",
       "    </tr>\n",
       "    <tr>\n",
       "      <th>5</th>\n",
       "      <td>BAILEY</td>\n",
       "      <td>64</td>\n",
       "      <td>6</td>\n",
       "      <td>07/13/2017 12:00:00 AM</td>\n",
       "      <td>1</td>\n",
       "    </tr>\n",
       "    <tr>\n",
       "      <th>6</th>\n",
       "      <td>CHARLIE</td>\n",
       "      <td>63</td>\n",
       "      <td>7</td>\n",
       "      <td>07/13/2017 12:00:00 AM</td>\n",
       "      <td>1</td>\n",
       "    </tr>\n",
       "    <tr>\n",
       "      <th>7</th>\n",
       "      <td>DAISY</td>\n",
       "      <td>61</td>\n",
       "      <td>8</td>\n",
       "      <td>07/13/2017 12:00:00 AM</td>\n",
       "      <td>1</td>\n",
       "    </tr>\n",
       "    <tr>\n",
       "      <th>8</th>\n",
       "      <td>JACK</td>\n",
       "      <td>59</td>\n",
       "      <td>9</td>\n",
       "      <td>07/13/2017 12:00:00 AM</td>\n",
       "      <td>1</td>\n",
       "    </tr>\n",
       "    <tr>\n",
       "      <th>9</th>\n",
       "      <td>GINGER</td>\n",
       "      <td>58</td>\n",
       "      <td>10</td>\n",
       "      <td>07/13/2017 12:00:00 AM</td>\n",
       "      <td>1</td>\n",
       "    </tr>\n",
       "  </tbody>\n",
       "</table>\n",
       "</div>"
      ],
      "text/plain": [
       "   DogName  Count  Rank                    Date  Set\n",
       "0    BELLA    115     1  07/13/2017 12:00:00 AM    1\n",
       "1     LUCY     80     2  07/13/2017 12:00:00 AM    1\n",
       "2    SADIE     78     3  07/13/2017 12:00:00 AM    1\n",
       "3      MAX     76     4  07/13/2017 12:00:00 AM    1\n",
       "4    BUDDY     74     5  07/13/2017 12:00:00 AM    1\n",
       "5   BAILEY     64     6  07/13/2017 12:00:00 AM    1\n",
       "6  CHARLIE     63     7  07/13/2017 12:00:00 AM    1\n",
       "7    DAISY     61     8  07/13/2017 12:00:00 AM    1\n",
       "8     JACK     59     9  07/13/2017 12:00:00 AM    1\n",
       "9   GINGER     58    10  07/13/2017 12:00:00 AM    1"
      ]
     },
     "execution_count": 8,
     "metadata": {},
     "output_type": "execute_result"
    }
   ],
   "source": [
    "df.head(10)  # Top Ten Names"
   ]
  },
  {
   "cell_type": "markdown",
   "metadata": {},
   "source": [
    "# Bottom 10 Dog Names"
   ]
  },
  {
   "cell_type": "code",
   "execution_count": 12,
   "metadata": {},
   "outputs": [
    {
     "data": {
      "text/html": [
       "<div>\n",
       "<style scoped>\n",
       "    .dataframe tbody tr th:only-of-type {\n",
       "        vertical-align: middle;\n",
       "    }\n",
       "\n",
       "    .dataframe tbody tr th {\n",
       "        vertical-align: top;\n",
       "    }\n",
       "\n",
       "    .dataframe thead th {\n",
       "        text-align: right;\n",
       "    }\n",
       "</style>\n",
       "<table border=\"1\" class=\"dataframe\">\n",
       "  <thead>\n",
       "    <tr style=\"text-align: right;\">\n",
       "      <th></th>\n",
       "      <th>DogName</th>\n",
       "      <th>Count</th>\n",
       "      <th>Rank</th>\n",
       "      <th>Date</th>\n",
       "      <th>Set</th>\n",
       "    </tr>\n",
       "  </thead>\n",
       "  <tbody>\n",
       "    <tr>\n",
       "      <th>16222</th>\n",
       "      <td>ZOEY MARIE</td>\n",
       "      <td>1</td>\n",
       "      <td>1259</td>\n",
       "      <td>01/09/2019 12:00:00 AM</td>\n",
       "      <td>4</td>\n",
       "    </tr>\n",
       "    <tr>\n",
       "      <th>16223</th>\n",
       "      <td>ZONA</td>\n",
       "      <td>1</td>\n",
       "      <td>1259</td>\n",
       "      <td>01/09/2019 12:00:00 AM</td>\n",
       "      <td>4</td>\n",
       "    </tr>\n",
       "    <tr>\n",
       "      <th>16224</th>\n",
       "      <td>ZOOIE</td>\n",
       "      <td>1</td>\n",
       "      <td>1259</td>\n",
       "      <td>01/09/2019 12:00:00 AM</td>\n",
       "      <td>4</td>\n",
       "    </tr>\n",
       "    <tr>\n",
       "      <th>16225</th>\n",
       "      <td>ZORBA</td>\n",
       "      <td>1</td>\n",
       "      <td>1259</td>\n",
       "      <td>01/09/2019 12:00:00 AM</td>\n",
       "      <td>4</td>\n",
       "    </tr>\n",
       "    <tr>\n",
       "      <th>16226</th>\n",
       "      <td>ZORRA</td>\n",
       "      <td>1</td>\n",
       "      <td>1259</td>\n",
       "      <td>01/09/2019 12:00:00 AM</td>\n",
       "      <td>4</td>\n",
       "    </tr>\n",
       "    <tr>\n",
       "      <th>16227</th>\n",
       "      <td>ZOTTER</td>\n",
       "      <td>1</td>\n",
       "      <td>1259</td>\n",
       "      <td>01/09/2019 12:00:00 AM</td>\n",
       "      <td>4</td>\n",
       "    </tr>\n",
       "    <tr>\n",
       "      <th>16228</th>\n",
       "      <td>ZSA ZSA</td>\n",
       "      <td>1</td>\n",
       "      <td>1259</td>\n",
       "      <td>01/09/2019 12:00:00 AM</td>\n",
       "      <td>4</td>\n",
       "    </tr>\n",
       "    <tr>\n",
       "      <th>16229</th>\n",
       "      <td>ZUILA</td>\n",
       "      <td>1</td>\n",
       "      <td>1259</td>\n",
       "      <td>01/09/2019 12:00:00 AM</td>\n",
       "      <td>4</td>\n",
       "    </tr>\n",
       "    <tr>\n",
       "      <th>16230</th>\n",
       "      <td>ZUNI</td>\n",
       "      <td>1</td>\n",
       "      <td>1259</td>\n",
       "      <td>01/09/2019 12:00:00 AM</td>\n",
       "      <td>4</td>\n",
       "    </tr>\n",
       "    <tr>\n",
       "      <th>16231</th>\n",
       "      <td>ZURI</td>\n",
       "      <td>1</td>\n",
       "      <td>1259</td>\n",
       "      <td>01/09/2019 12:00:00 AM</td>\n",
       "      <td>4</td>\n",
       "    </tr>\n",
       "  </tbody>\n",
       "</table>\n",
       "</div>"
      ],
      "text/plain": [
       "          DogName  Count  Rank                    Date  Set\n",
       "16222  ZOEY MARIE      1  1259  01/09/2019 12:00:00 AM    4\n",
       "16223        ZONA      1  1259  01/09/2019 12:00:00 AM    4\n",
       "16224       ZOOIE      1  1259  01/09/2019 12:00:00 AM    4\n",
       "16225       ZORBA      1  1259  01/09/2019 12:00:00 AM    4\n",
       "16226       ZORRA      1  1259  01/09/2019 12:00:00 AM    4\n",
       "16227      ZOTTER      1  1259  01/09/2019 12:00:00 AM    4\n",
       "16228     ZSA ZSA      1  1259  01/09/2019 12:00:00 AM    4\n",
       "16229       ZUILA      1  1259  01/09/2019 12:00:00 AM    4\n",
       "16230        ZUNI      1  1259  01/09/2019 12:00:00 AM    4\n",
       "16231        ZURI      1  1259  01/09/2019 12:00:00 AM    4"
      ]
     },
     "execution_count": 12,
     "metadata": {},
     "output_type": "execute_result"
    }
   ],
   "source": [
    "df.tail(10) # Bottom 10 names"
   ]
  },
  {
   "cell_type": "code",
   "execution_count": null,
   "metadata": {},
   "outputs": [],
   "source": []
  }
 ],
 "metadata": {
  "kernelspec": {
   "display_name": "Python 3",
   "language": "python",
   "name": "python3"
  },
  "language_info": {
   "codemirror_mode": {
    "name": "ipython",
    "version": 3
   },
   "file_extension": ".py",
   "mimetype": "text/x-python",
   "name": "python",
   "nbconvert_exporter": "python",
   "pygments_lexer": "ipython3",
   "version": "3.7.6"
  }
 },
 "nbformat": 4,
 "nbformat_minor": 4
}
